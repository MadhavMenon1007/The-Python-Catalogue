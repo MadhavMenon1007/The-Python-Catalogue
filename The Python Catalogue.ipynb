{
 "cells": [
  {
   "cell_type": "markdown",
   "id": "ada859b0",
   "metadata": {},
   "source": [
    "# The Python Catalogue"
   ]
  },
  {
   "cell_type": "markdown",
   "id": "c5166689",
   "metadata": {},
   "source": [
    "Hello and congratulations on choosing to learn Python! Python is a great first step to enter into the world of Computer Science and programming in general. I've been learning Python for a fair amount of time now and it's safe to say that I have truly experienced the language for what it has to offer, however the world of Python is constantly changing. Newer features are added and versions are constantly released. In fact, as of July 2021, the latest Python version is Python 3.9.6"
   ]
  },
  {
   "cell_type": "markdown",
   "id": "ca66ab90",
   "metadata": {},
   "source": [
    "## Table of Contents"
   ]
  },
  {
   "cell_type": "markdown",
   "id": "755b704c",
   "metadata": {},
   "source": [
    "<ol>\n",
    "    <li>General information about Python and set up</li>\n",
    "    <li>Hello World</li>\n",
    "    <li>Variables</li>\n",
    "    <li>Calculations</li>\n",
    "    <li>Control Flow</li>\n",
    "    <li>Functions</li>\n",
    "    <li>Loops</li>\n",
    "    <li>Lists</li>\n",
    "    <li>Sets</li>\n",
    "    <li>Strings</li>\n",
    "    <li>Dictionaries</li>\n",
    "    <li>Classes</li>\n",
    "</ol>"
   ]
  },
  {
   "cell_type": "markdown",
   "id": "263d233b",
   "metadata": {},
   "source": [
    "## General information about Python and set up"
   ]
  },
  {
   "cell_type": "markdown",
   "id": "beb64670",
   "metadata": {},
   "source": [
    "Python is known as a general purpose programming language. In essence, it is a jack of all trades; mhether it's a master of none is debatable however. Python is the preferred language for Data Analsyis and Scientific programming. It can also be used for web development, artificial intelligence, machine learning, video game development, mobile development and more. This is why Python is a great language to add to anyone's arsenal, you never know when it may be required. While Python can be used to complete most jobs, there are often better programming languages that can be used instead such as JavaScript for web development or Swift and Java for mobile development; however, Python's easy to read syntax makes it extremely appealing for any beginner to pick it up."
   ]
  },
  {
   "cell_type": "markdown",
   "id": "5453b946",
   "metadata": {},
   "source": [
    "### Python Download"
   ]
  },
  {
   "attachments": {},
   "cell_type": "markdown",
   "id": "31f6d02d",
   "metadata": {},
   "source": [
    "<ol>\n",
    "    <li>To download Python, you will have to navigate to their [website](https://www.python.org/).</li>\n",
    "    <li>You then have to navigate to downloads and download the latest version (3.9.6) for your respective operating system</li>\n",
    "\n",
    "    \n",
    "    \n",
    "    "
   ]
  },
  {
   "cell_type": "code",
   "execution_count": null,
   "id": "eafd79c7",
   "metadata": {},
   "outputs": [],
   "source": []
  }
 ],
 "metadata": {
  "kernelspec": {
   "display_name": "Python 3",
   "language": "python",
   "name": "python3"
  },
  "language_info": {
   "codemirror_mode": {
    "name": "ipython",
    "version": 3
   },
   "file_extension": ".py",
   "mimetype": "text/x-python",
   "name": "python",
   "nbconvert_exporter": "python",
   "pygments_lexer": "ipython3",
   "version": "3.8.8"
  }
 },
 "nbformat": 4,
 "nbformat_minor": 5
}
